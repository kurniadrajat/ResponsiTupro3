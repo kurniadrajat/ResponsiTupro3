{
  "nbformat": 4,
  "nbformat_minor": 0,
  "metadata": {
    "colab": {
      "name": "R1_1301180317.ipynb",
      "provenance": [],
      "collapsed_sections": []
    },
    "kernelspec": {
      "name": "python3",
      "display_name": "Python 3"
    }
  },
  "cells": [
    {
      "cell_type": "code",
      "metadata": {
        "id": "0rHx19qDDEJq"
      },
      "source": [
        "import numpy as np\r\n",
        "import matplotlib.pyplot as plt\r\n",
        "from sklearn.datasets import make_classification"
      ],
      "execution_count": 1,
      "outputs": []
    },
    {
      "cell_type": "code",
      "metadata": {
        "id": "kcbDFnDLE8BQ"
      },
      "source": [
        "n_samples =800\r\n",
        "n_features =8\r\n",
        "X,y =make_classification(n_samples, n_features, n_redundant=1, n_informative=6, n_clusters_per_class=2,random_state=4205)"
      ],
      "execution_count": 2,
      "outputs": []
    },
    {
      "cell_type": "code",
      "metadata": {
        "colab": {
          "base_uri": "https://localhost:8080/"
        },
        "id": "nNl8vXPxGBEt",
        "outputId": "16775224-878b-48ac-9e23-6707794eeb0c"
      },
      "source": [
        "print(X.shape)\r\n",
        "print(y.shape)"
      ],
      "execution_count": 3,
      "outputs": [
        {
          "output_type": "stream",
          "text": [
            "(800, 8)\n",
            "(800,)\n"
          ],
          "name": "stdout"
        }
      ]
    },
    {
      "cell_type": "code",
      "metadata": {
        "colab": {
          "base_uri": "https://localhost:8080/"
        },
        "id": "ktv8d64QGP0R",
        "outputId": "03f6e546-fb46-4db0-b5a6-674fef535cb0"
      },
      "source": [
        "X[0]"
      ],
      "execution_count": 4,
      "outputs": [
        {
          "output_type": "execute_result",
          "data": {
            "text/plain": [
              "array([ 0.47426737,  3.2915114 ,  3.26119   ,  2.55204206, -0.11094905,\n",
              "        3.18398662, -0.54505232, -0.1119242 ])"
            ]
          },
          "metadata": {
            "tags": []
          },
          "execution_count": 4
        }
      ]
    },
    {
      "cell_type": "code",
      "metadata": {
        "colab": {
          "base_uri": "https://localhost:8080/"
        },
        "id": "uT-PiAFHGR9P",
        "outputId": "fb884947-2758-4781-d37f-35164a91fc67"
      },
      "source": [
        "y[0]"
      ],
      "execution_count": 5,
      "outputs": [
        {
          "output_type": "execute_result",
          "data": {
            "text/plain": [
              "0"
            ]
          },
          "metadata": {
            "tags": []
          },
          "execution_count": 5
        }
      ]
    },
    {
      "cell_type": "markdown",
      "metadata": {
        "id": "HLX1f-GoLw7a"
      },
      "source": [
        "PREPARE KFOLD"
      ]
    },
    {
      "cell_type": "code",
      "metadata": {
        "colab": {
          "base_uri": "https://localhost:8080/"
        },
        "id": "YA5iqi58GgD7",
        "outputId": "80b3d256-afeb-45e9-dabb-d8cba8495837"
      },
      "source": [
        "n_fold=5\r\n",
        "\r\n",
        "X_fold = X.reshape((n_fold, -1, n_features))\r\n",
        "y_fold = y.reshape((n_fold,-1))\r\n",
        "\r\n",
        "print(X_fold.shape)\r\n",
        "print(y_fold.shape)"
      ],
      "execution_count": 6,
      "outputs": [
        {
          "output_type": "stream",
          "text": [
            "(5, 160, 8)\n",
            "(5, 160)\n"
          ],
          "name": "stdout"
        }
      ]
    },
    {
      "cell_type": "markdown",
      "metadata": {
        "id": "Ip_nFejCG15S"
      },
      "source": [
        "KNN"
      ]
    },
    {
      "cell_type": "code",
      "metadata": {
        "id": "wNIbwMUIG20y"
      },
      "source": [
        "def euclidean(x1, x2):\r\n",
        "    return np.linalg.norm(x1-x2, axis=1)"
      ],
      "execution_count": 7,
      "outputs": []
    },
    {
      "cell_type": "code",
      "metadata": {
        "id": "lgbeZazbHBvC"
      },
      "source": [
        "def predict(x, data_train, k, distance_fn):\r\n",
        "    X, y        = data_train\r\n",
        "    dist        = distance_fn(x, X)\r\n",
        "    nearest_idx = dist.argsort()[:k]\r\n",
        "    y_pred      = y[nearest_idx]\r\n",
        "    y_pred      = np.bincount(y_pred).argmax()\r\n",
        "    return y_pred"
      ],
      "execution_count": 8,
      "outputs": []
    },
    {
      "cell_type": "markdown",
      "metadata": {
        "id": "3LBTelaHHp-6"
      },
      "source": [
        "KFOLD"
      ]
    },
    {
      "cell_type": "code",
      "metadata": {
        "id": "u-7u9RewHq5n"
      },
      "source": [
        "def accuracy(y, y_pred):\r\n",
        "    acc = (y==y_pred).mean()\r\n",
        "    return acc"
      ],
      "execution_count": 9,
      "outputs": []
    },
    {
      "cell_type": "code",
      "metadata": {
        "colab": {
          "base_uri": "https://localhost:8080/"
        },
        "id": "tFzkNjOPH7iq",
        "outputId": "5a7d9742-c3f4-485d-a17b-c283e862d916"
      },
      "source": [
        "k_observe = [1, 3, 5, 7]\r\n",
        "acc_fold = []\r\n",
        "\r\n",
        "for i in range(n_fold):\r\n",
        "\r\n",
        "    X_val = X_fold[i]\r\n",
        "    y_val = y_fold[i]\r\n",
        "\r\n",
        "    X_train = np.delete(X_fold, i, 0)\r\n",
        "    y_train = np.delete(y_fold, i, 0)\r\n",
        "\r\n",
        "    X_train = X_train.reshape(-1, 8)\r\n",
        "    y_train = y_train.reshape(-1,)\r\n",
        "\r\n",
        "    data_train = (X_train, y_train)\r\n",
        "\r\n",
        "    acc = []\r\n",
        "    for k in k_observe:\r\n",
        "        y_pred = []\r\n",
        "        for x in X_val:\r\n",
        "            y_hat = predict(x, data_train, k, euclidean)\r\n",
        "            y_pred.append(y_hat)\r\n",
        "        y_pred = np.array(y_pred)\r\n",
        "\r\n",
        "        acc_k = accuracy(y_val, y_pred)\r\n",
        "        print('fold=%d, k=%d, acc=%0.2f' % (i, k, acc_k))\r\n",
        "\r\n",
        "        acc.append(acc_k)\r\n",
        "\r\n",
        "    acc_fold.append(acc)"
      ],
      "execution_count": 10,
      "outputs": [
        {
          "output_type": "stream",
          "text": [
            "fold=0, k=1, acc=0.88\n",
            "fold=0, k=3, acc=0.88\n",
            "fold=0, k=5, acc=0.88\n",
            "fold=0, k=7, acc=0.91\n",
            "fold=1, k=1, acc=0.85\n",
            "fold=1, k=3, acc=0.91\n",
            "fold=1, k=5, acc=0.90\n",
            "fold=1, k=7, acc=0.91\n",
            "fold=2, k=1, acc=0.89\n",
            "fold=2, k=3, acc=0.91\n",
            "fold=2, k=5, acc=0.92\n",
            "fold=2, k=7, acc=0.89\n",
            "fold=3, k=1, acc=0.89\n",
            "fold=3, k=3, acc=0.90\n",
            "fold=3, k=5, acc=0.92\n",
            "fold=3, k=7, acc=0.91\n",
            "fold=4, k=1, acc=0.89\n",
            "fold=4, k=3, acc=0.91\n",
            "fold=4, k=5, acc=0.87\n",
            "fold=4, k=7, acc=0.86\n"
          ],
          "name": "stdout"
        }
      ]
    },
    {
      "cell_type": "code",
      "metadata": {
        "colab": {
          "base_uri": "https://localhost:8080/"
        },
        "id": "LGIuKTLWNf4Y",
        "outputId": "ef18c4ca-03f4-4f9e-97f4-e8ee4c3802cc"
      },
      "source": [
        "acc_fold = np.array(acc_fold)\r\n",
        "acc_fold"
      ],
      "execution_count": 11,
      "outputs": [
        {
          "output_type": "execute_result",
          "data": {
            "text/plain": [
              "array([[0.875  , 0.875  , 0.875  , 0.9125 ],\n",
              "       [0.85   , 0.90625, 0.9    , 0.9125 ],\n",
              "       [0.89375, 0.9125 , 0.91875, 0.89375],\n",
              "       [0.89375, 0.9    , 0.91875, 0.9125 ],\n",
              "       [0.89375, 0.90625, 0.86875, 0.8625 ]])"
            ]
          },
          "metadata": {
            "tags": []
          },
          "execution_count": 11
        }
      ]
    },
    {
      "cell_type": "code",
      "metadata": {
        "colab": {
          "base_uri": "https://localhost:8080/"
        },
        "id": "MCUtxXhYNina",
        "outputId": "fd84a2b1-122a-4248-bad9-e394126275ac"
      },
      "source": [
        "acc_mean = acc_fold.mean(axis=0)\r\n",
        "acc_mean"
      ],
      "execution_count": 12,
      "outputs": [
        {
          "output_type": "execute_result",
          "data": {
            "text/plain": [
              "array([0.88125, 0.9    , 0.89625, 0.89875])"
            ]
          },
          "metadata": {
            "tags": []
          },
          "execution_count": 12
        }
      ]
    },
    {
      "cell_type": "code",
      "metadata": {
        "colab": {
          "base_uri": "https://localhost:8080/",
          "height": 265
        },
        "id": "czHNNfdwNmKW",
        "outputId": "1fb9dd1c-3d89-4aa9-8ee2-b8e1a3c93178"
      },
      "source": [
        "plt.plot(k_observe, acc_mean)\r\n",
        "plt.xticks(k_observe)\r\n",
        "plt.yticks(acc_mean)\r\n",
        "plt.show()"
      ],
      "execution_count": 13,
      "outputs": [
        {
          "output_type": "display_data",
          "data": {
            "image/png": "[encoded data removed]",
            "text/plain": [
              "<Figure size 432x288 with 1 Axes>"
            ]
          },
          "metadata": {
            "tags": [],
            "needs_background": "light"
          }
        }
      ]
    },
    {
      "cell_type": "markdown",
      "metadata": {
        "id": "qMvC_cUHNoNS"
      },
      "source": [
        "PROFF"
      ]
    },
    {
      "cell_type": "code",
      "metadata": {
        "id": "nt_UM06ZNnH5"
      },
      "source": [
        "from sklearn.model_selection import cross_val_score\r\n",
        "from sklearn.neighbors import KNeighborsClassifier\r\n",
        "from sklearn.model_selection import GridSearchCV"
      ],
      "execution_count": 14,
      "outputs": []
    },
    {
      "cell_type": "code",
      "metadata": {
        "id": "G75fYLA9NtUC"
      },
      "source": [
        "knn_csv = KNeighborsClassifier(algorithm='brute')\r\n",
        "param_grid = {'n_neighbors' : k_observe}"
      ],
      "execution_count": 15,
      "outputs": []
    },
    {
      "cell_type": "code",
      "metadata": {
        "colab": {
          "base_uri": "https://localhost:8080/"
        },
        "id": "myYd6m3pNu5k",
        "outputId": "d5d2adc7-440f-4d2a-973c-714f13341db0"
      },
      "source": [
        "knn_gscv = GridSearchCV(knn_csv, param_grid, cv=5)\r\n",
        "knn_gscv.fit(X, y)"
      ],
      "execution_count": 16,
      "outputs": [
        {
          "output_type": "execute_result",
          "data": {
            "text/plain": [
              "GridSearchCV(cv=5, error_score=nan,\n",
              "             estimator=KNeighborsClassifier(algorithm='brute', leaf_size=30,\n",
              "                                            metric='minkowski',\n",
              "                                            metric_params=None, n_jobs=None,\n",
              "                                            n_neighbors=5, p=2,\n",
              "                                            weights='uniform'),\n",
              "             iid='deprecated', n_jobs=None,\n",
              "             param_grid={'n_neighbors': [1, 3, 5, 7]}, pre_dispatch='2*n_jobs',\n",
              "             refit=True, return_train_score=False, scoring=None, verbose=0)"
            ]
          },
          "metadata": {
            "tags": []
          },
          "execution_count": 16
        }
      ]
    },
    {
      "cell_type": "code",
      "metadata": {
        "colab": {
          "base_uri": "https://localhost:8080/"
        },
        "id": "X_SyzviMN0aV",
        "outputId": "0e1ba76a-c9ba-4891-d555-d31646b8a672"
      },
      "source": [
        "knn_gscv.best_params_"
      ],
      "execution_count": 17,
      "outputs": [
        {
          "output_type": "execute_result",
          "data": {
            "text/plain": [
              "{'n_neighbors': 3}"
            ]
          },
          "metadata": {
            "tags": []
          },
          "execution_count": 17
        }
      ]
    },
    {
      "cell_type": "code",
      "metadata": {
        "colab": {
          "base_uri": "https://localhost:8080/"
        },
        "id": "vpKZQkH0N1R9",
        "outputId": "aad85a0c-98bc-437d-fbbd-4de65ba38e4f"
      },
      "source": [
        "print(knn_gscv.cv_results_['split0_test_score'])\r\n",
        "print(acc_fold[0])"
      ],
      "execution_count": 18,
      "outputs": [
        {
          "output_type": "stream",
          "text": [
            "[0.875   0.875   0.875   0.91875]\n",
            "[0.875  0.875  0.875  0.9125]\n"
          ],
          "name": "stdout"
        }
      ]
    },
    {
      "cell_type": "code",
      "metadata": {
        "colab": {
          "base_uri": "https://localhost:8080/"
        },
        "id": "mvC6eVNiN24q",
        "outputId": "f825b3c2-d555-4583-f5e2-134df8c686b6"
      },
      "source": [
        "print(knn_gscv.cv_results_['mean_test_score'])\r\n",
        "print(acc_mean)"
      ],
      "execution_count": 19,
      "outputs": [
        {
          "output_type": "stream",
          "text": [
            "[0.88375 0.89875 0.89625 0.89875]\n",
            "[0.88125 0.9     0.89625 0.89875]\n"
          ],
          "name": "stdout"
        }
      ]
    }
  ]
}